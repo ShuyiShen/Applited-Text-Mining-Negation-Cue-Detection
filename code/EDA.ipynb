{
 "cells": [
  {
   "cell_type": "code",
   "execution_count": 1,
   "id": "066ea0da",
   "metadata": {},
   "outputs": [],
   "source": [
    "import pandas as pd\n",
    "import csv\n",
    "from collections import Counter"
   ]
  },
  {
   "cell_type": "markdown",
   "id": "52a2eb3f",
   "metadata": {},
   "source": [
    "### Explore the training and development data provided for the experiment"
   ]
  },
  {
   "cell_type": "code",
   "execution_count": 2,
   "id": "41ed5a06",
   "metadata": {},
   "outputs": [],
   "source": [
    "path_train = '../data/SEM-2012-SharedTask-CD-SCO-training-simple.v2.txt'\n",
    "path_dev = '../data/SEM-2012-SharedTask-CD-SCO-dev-simple.v2.txt'"
   ]
  },
  {
   "cell_type": "code",
   "execution_count": 3,
   "id": "9746950c",
   "metadata": {},
   "outputs": [],
   "source": [
    "# use quotechar='\\\\' because we don't have \\ in our data\n",
    "# use skip_blank_lines=False because we want to keep blank lines signifying eos\n",
    "# use keep_default_na=False because we want to keep data as is\n",
    "\n",
    "train = pd.read_csv(path_train, encoding='utf-8', sep='\\t', header=None, \n",
    "                    keep_default_na=False, quotechar='\\\\', skip_blank_lines=False)\n",
    "dev = pd.read_csv(path_dev, encoding='utf-8', sep='\\t', header=None, \n",
    "                  keep_default_na=False, quotechar='\\\\', skip_blank_lines=False)"
   ]
  },
  {
   "cell_type": "code",
   "execution_count": 4,
   "id": "597cee09",
   "metadata": {},
   "outputs": [
    {
     "data": {
      "text/html": [
       "<div>\n",
       "<style scoped>\n",
       "    .dataframe tbody tr th:only-of-type {\n",
       "        vertical-align: middle;\n",
       "    }\n",
       "\n",
       "    .dataframe tbody tr th {\n",
       "        vertical-align: top;\n",
       "    }\n",
       "\n",
       "    .dataframe thead th {\n",
       "        text-align: right;\n",
       "    }\n",
       "</style>\n",
       "<table border=\"1\" class=\"dataframe\">\n",
       "  <thead>\n",
       "    <tr style=\"text-align: right;\">\n",
       "      <th></th>\n",
       "      <th>0</th>\n",
       "      <th>1</th>\n",
       "      <th>2</th>\n",
       "      <th>3</th>\n",
       "      <th>4</th>\n",
       "    </tr>\n",
       "  </thead>\n",
       "  <tbody>\n",
       "    <tr>\n",
       "      <th>0</th>\n",
       "      <td>baskervilles01</td>\n",
       "      <td>0</td>\n",
       "      <td>0</td>\n",
       "      <td>Chapter</td>\n",
       "      <td>O</td>\n",
       "    </tr>\n",
       "    <tr>\n",
       "      <th>1</th>\n",
       "      <td>baskervilles01</td>\n",
       "      <td>0</td>\n",
       "      <td>1</td>\n",
       "      <td>1.</td>\n",
       "      <td>O</td>\n",
       "    </tr>\n",
       "    <tr>\n",
       "      <th>2</th>\n",
       "      <td>baskervilles01</td>\n",
       "      <td>0</td>\n",
       "      <td>2</td>\n",
       "      <td>Mr.</td>\n",
       "      <td>O</td>\n",
       "    </tr>\n",
       "    <tr>\n",
       "      <th>3</th>\n",
       "      <td>baskervilles01</td>\n",
       "      <td>0</td>\n",
       "      <td>3</td>\n",
       "      <td>Sherlock</td>\n",
       "      <td>O</td>\n",
       "    </tr>\n",
       "    <tr>\n",
       "      <th>4</th>\n",
       "      <td>baskervilles01</td>\n",
       "      <td>0</td>\n",
       "      <td>4</td>\n",
       "      <td>Holmes</td>\n",
       "      <td>O</td>\n",
       "    </tr>\n",
       "    <tr>\n",
       "      <th>5</th>\n",
       "      <td></td>\n",
       "      <td></td>\n",
       "      <td></td>\n",
       "      <td></td>\n",
       "      <td></td>\n",
       "    </tr>\n",
       "    <tr>\n",
       "      <th>6</th>\n",
       "      <td>baskervilles01</td>\n",
       "      <td>1</td>\n",
       "      <td>0</td>\n",
       "      <td>Mr.</td>\n",
       "      <td>O</td>\n",
       "    </tr>\n",
       "    <tr>\n",
       "      <th>7</th>\n",
       "      <td>baskervilles01</td>\n",
       "      <td>1</td>\n",
       "      <td>1</td>\n",
       "      <td>Sherlock</td>\n",
       "      <td>O</td>\n",
       "    </tr>\n",
       "    <tr>\n",
       "      <th>8</th>\n",
       "      <td>baskervilles01</td>\n",
       "      <td>1</td>\n",
       "      <td>2</td>\n",
       "      <td>Holmes</td>\n",
       "      <td>O</td>\n",
       "    </tr>\n",
       "    <tr>\n",
       "      <th>9</th>\n",
       "      <td>baskervilles01</td>\n",
       "      <td>1</td>\n",
       "      <td>3</td>\n",
       "      <td>,</td>\n",
       "      <td>O</td>\n",
       "    </tr>\n",
       "  </tbody>\n",
       "</table>\n",
       "</div>"
      ],
      "text/plain": [
       "                0  1  2         3  4\n",
       "0  baskervilles01  0  0   Chapter  O\n",
       "1  baskervilles01  0  1        1.  O\n",
       "2  baskervilles01  0  2       Mr.  O\n",
       "3  baskervilles01  0  3  Sherlock  O\n",
       "4  baskervilles01  0  4    Holmes  O\n",
       "5                                   \n",
       "6  baskervilles01  1  0       Mr.  O\n",
       "7  baskervilles01  1  1  Sherlock  O\n",
       "8  baskervilles01  1  2    Holmes  O\n",
       "9  baskervilles01  1  3         ,  O"
      ]
     },
     "execution_count": 4,
     "metadata": {},
     "output_type": "execute_result"
    }
   ],
   "source": [
    "train.head(10)"
   ]
  },
  {
   "cell_type": "code",
   "execution_count": 5,
   "id": "3ffb1d43",
   "metadata": {},
   "outputs": [
    {
     "data": {
      "text/html": [
       "<div>\n",
       "<style scoped>\n",
       "    .dataframe tbody tr th:only-of-type {\n",
       "        vertical-align: middle;\n",
       "    }\n",
       "\n",
       "    .dataframe tbody tr th {\n",
       "        vertical-align: top;\n",
       "    }\n",
       "\n",
       "    .dataframe thead th {\n",
       "        text-align: right;\n",
       "    }\n",
       "</style>\n",
       "<table border=\"1\" class=\"dataframe\">\n",
       "  <thead>\n",
       "    <tr style=\"text-align: right;\">\n",
       "      <th></th>\n",
       "      <th>0</th>\n",
       "      <th>1</th>\n",
       "      <th>2</th>\n",
       "      <th>3</th>\n",
       "      <th>4</th>\n",
       "    </tr>\n",
       "  </thead>\n",
       "  <tbody>\n",
       "    <tr>\n",
       "      <th>0</th>\n",
       "      <td>wisteria01</td>\n",
       "      <td>0</td>\n",
       "      <td>0</td>\n",
       "      <td>1.</td>\n",
       "      <td>O</td>\n",
       "    </tr>\n",
       "    <tr>\n",
       "      <th>1</th>\n",
       "      <td>wisteria01</td>\n",
       "      <td>0</td>\n",
       "      <td>1</td>\n",
       "      <td>The</td>\n",
       "      <td>O</td>\n",
       "    </tr>\n",
       "    <tr>\n",
       "      <th>2</th>\n",
       "      <td>wisteria01</td>\n",
       "      <td>0</td>\n",
       "      <td>2</td>\n",
       "      <td>Singular</td>\n",
       "      <td>O</td>\n",
       "    </tr>\n",
       "    <tr>\n",
       "      <th>3</th>\n",
       "      <td>wisteria01</td>\n",
       "      <td>0</td>\n",
       "      <td>3</td>\n",
       "      <td>Experience</td>\n",
       "      <td>O</td>\n",
       "    </tr>\n",
       "    <tr>\n",
       "      <th>4</th>\n",
       "      <td>wisteria01</td>\n",
       "      <td>0</td>\n",
       "      <td>4</td>\n",
       "      <td>of</td>\n",
       "      <td>O</td>\n",
       "    </tr>\n",
       "    <tr>\n",
       "      <th>5</th>\n",
       "      <td>wisteria01</td>\n",
       "      <td>0</td>\n",
       "      <td>5</td>\n",
       "      <td>Mr.</td>\n",
       "      <td>O</td>\n",
       "    </tr>\n",
       "    <tr>\n",
       "      <th>6</th>\n",
       "      <td>wisteria01</td>\n",
       "      <td>0</td>\n",
       "      <td>6</td>\n",
       "      <td>John</td>\n",
       "      <td>O</td>\n",
       "    </tr>\n",
       "    <tr>\n",
       "      <th>7</th>\n",
       "      <td>wisteria01</td>\n",
       "      <td>0</td>\n",
       "      <td>7</td>\n",
       "      <td>Scott</td>\n",
       "      <td>O</td>\n",
       "    </tr>\n",
       "    <tr>\n",
       "      <th>8</th>\n",
       "      <td>wisteria01</td>\n",
       "      <td>0</td>\n",
       "      <td>8</td>\n",
       "      <td>Eccles</td>\n",
       "      <td>O</td>\n",
       "    </tr>\n",
       "    <tr>\n",
       "      <th>9</th>\n",
       "      <td></td>\n",
       "      <td></td>\n",
       "      <td></td>\n",
       "      <td></td>\n",
       "      <td></td>\n",
       "    </tr>\n",
       "  </tbody>\n",
       "</table>\n",
       "</div>"
      ],
      "text/plain": [
       "            0  1  2           3  4\n",
       "0  wisteria01  0  0          1.  O\n",
       "1  wisteria01  0  1         The  O\n",
       "2  wisteria01  0  2    Singular  O\n",
       "3  wisteria01  0  3  Experience  O\n",
       "4  wisteria01  0  4          of  O\n",
       "5  wisteria01  0  5         Mr.  O\n",
       "6  wisteria01  0  6        John  O\n",
       "7  wisteria01  0  7       Scott  O\n",
       "8  wisteria01  0  8      Eccles  O\n",
       "9                                 "
      ]
     },
     "execution_count": 5,
     "metadata": {},
     "output_type": "execute_result"
    }
   ],
   "source": [
    "dev.head(10)"
   ]
  },
  {
   "cell_type": "code",
   "execution_count": 6,
   "id": "a8f8eb61",
   "metadata": {},
   "outputs": [
    {
     "name": "stdout",
     "output_type": "stream",
     "text": [
      "<class 'pandas.core.frame.DataFrame'>\n",
      "RangeIndex: 69094 entries, 0 to 69093\n",
      "Data columns (total 5 columns):\n",
      " #   Column  Non-Null Count  Dtype \n",
      "---  ------  --------------  ----- \n",
      " 0   0       69094 non-null  object\n",
      " 1   1       69094 non-null  object\n",
      " 2   2       69094 non-null  object\n",
      " 3   3       69094 non-null  object\n",
      " 4   4       69094 non-null  object\n",
      "dtypes: object(5)\n",
      "memory usage: 2.6+ MB\n"
     ]
    }
   ],
   "source": [
    "# number of values per column\n",
    "\n",
    "train.info()"
   ]
  },
  {
   "cell_type": "code",
   "execution_count": 7,
   "id": "f11a5418",
   "metadata": {},
   "outputs": [
    {
     "name": "stdout",
     "output_type": "stream",
     "text": [
      "<class 'pandas.core.frame.DataFrame'>\n",
      "RangeIndex: 14353 entries, 0 to 14352\n",
      "Data columns (total 5 columns):\n",
      " #   Column  Non-Null Count  Dtype \n",
      "---  ------  --------------  ----- \n",
      " 0   0       14353 non-null  object\n",
      " 1   1       14353 non-null  object\n",
      " 2   2       14353 non-null  object\n",
      " 3   3       14353 non-null  object\n",
      " 4   4       14353 non-null  object\n",
      "dtypes: object(5)\n",
      "memory usage: 560.8+ KB\n"
     ]
    }
   ],
   "source": [
    "dev.info()"
   ]
  },
  {
   "cell_type": "code",
   "execution_count": 8,
   "id": "ecf0a163",
   "metadata": {},
   "outputs": [
    {
     "data": {
      "text/plain": [
       "0      15\n",
       "1     400\n",
       "2      84\n",
       "3    5780\n",
       "4       4\n",
       "dtype: int64"
      ]
     },
     "execution_count": 8,
     "metadata": {},
     "output_type": "execute_result"
    }
   ],
   "source": [
    "# number of unique values per column\n",
    "\n",
    "train.nunique()"
   ]
  },
  {
   "cell_type": "code",
   "execution_count": 9,
   "id": "3a21f459",
   "metadata": {},
   "outputs": [
    {
     "data": {
      "text/plain": [
       "0       3\n",
       "1     441\n",
       "2      64\n",
       "3    2433\n",
       "4       4\n",
       "dtype: int64"
      ]
     },
     "execution_count": 9,
     "metadata": {},
     "output_type": "execute_result"
    }
   ],
   "source": [
    "dev.nunique()"
   ]
  },
  {
   "cell_type": "code",
   "execution_count": 10,
   "id": "ec3e9ceb",
   "metadata": {},
   "outputs": [
    {
     "data": {
      "text/plain": [
       "array(['O', '', 'B-NEG', 'I-NEG'], dtype=object)"
      ]
     },
     "execution_count": 10,
     "metadata": {},
     "output_type": "execute_result"
    }
   ],
   "source": [
    "# unique labels\n",
    "\n",
    "train[4].unique()"
   ]
  },
  {
   "cell_type": "code",
   "execution_count": 11,
   "id": "4bf6885c",
   "metadata": {},
   "outputs": [
    {
     "data": {
      "text/plain": [
       "O        64448\n",
       "          3643\n",
       "B-NEG      987\n",
       "I-NEG       16\n",
       "Name: 4, dtype: int64"
      ]
     },
     "execution_count": 11,
     "metadata": {},
     "output_type": "execute_result"
    }
   ],
   "source": [
    "# number of values per label\n",
    "\n",
    "train[4].value_counts()"
   ]
  },
  {
   "cell_type": "code",
   "execution_count": 12,
   "id": "19f28d37",
   "metadata": {},
   "outputs": [
    {
     "data": {
      "text/plain": [
       "O        13388\n",
       "           786\n",
       "B-NEG      176\n",
       "I-NEG        3\n",
       "Name: 4, dtype: int64"
      ]
     },
     "execution_count": 12,
     "metadata": {},
     "output_type": "execute_result"
    }
   ],
   "source": [
    "dev[4].value_counts()"
   ]
  },
  {
   "cell_type": "code",
   "execution_count": 13,
   "id": "9560ff57",
   "metadata": {},
   "outputs": [],
   "source": [
    "# initialize an empty df to collect some statistics\n",
    "\n",
    "stats = pd.DataFrame(columns=['train', 'dev'])"
   ]
  },
  {
   "cell_type": "code",
   "execution_count": 14,
   "id": "123ac12f",
   "metadata": {},
   "outputs": [],
   "source": [
    "# calculate the number of sentences: it's the number of empty rows + 1 for the last sentence\n",
    "\n",
    "train_sents = int(train[4][train[4] == ''].value_counts() + 1)\n",
    "dev_sents = int(dev[4][dev[4] == ''].value_counts() + 1)"
   ]
  },
  {
   "cell_type": "code",
   "execution_count": 15,
   "id": "bc1b5ed2",
   "metadata": {},
   "outputs": [
    {
     "data": {
      "text/plain": [
       "train    3644\n",
       "dev       787\n",
       "Name: # sentences, dtype: object"
      ]
     },
     "execution_count": 15,
     "metadata": {},
     "output_type": "execute_result"
    }
   ],
   "source": [
    "# add the number of sentences to the table\n",
    "\n",
    "stats.loc['# sentences'] = [train_sents, dev_sents]\n",
    "stats.loc['# sentences']"
   ]
  },
  {
   "cell_type": "code",
   "execution_count": 16,
   "id": "1022413c",
   "metadata": {},
   "outputs": [],
   "source": [
    "# calculate the number of tokens: it's the total number of rows - number of empty rows\n",
    "\n",
    "train_tokens = int(train.shape[0] - train[train[4] == ''][4].value_counts())\n",
    "dev_tokens = int(dev.shape[0] - dev[dev[4] == ''][4].value_counts())"
   ]
  },
  {
   "cell_type": "code",
   "execution_count": 17,
   "id": "dd79c456",
   "metadata": {},
   "outputs": [
    {
     "data": {
      "text/plain": [
       "train    65451\n",
       "dev      13567\n",
       "Name: # tokens, dtype: object"
      ]
     },
     "execution_count": 17,
     "metadata": {},
     "output_type": "execute_result"
    }
   ],
   "source": [
    "stats.loc['# tokens'] = [train_tokens, dev_tokens]\n",
    "stats.loc['# tokens']"
   ]
  },
  {
   "cell_type": "code",
   "execution_count": 18,
   "id": "f37e00a0",
   "metadata": {},
   "outputs": [],
   "source": [
    "# calculate the number of unique tokens: it's the unique values from column 3 - 1 for \n",
    "# value '' for empty row\n",
    "\n",
    "train_tokens_unique = int(train[3].nunique() - 1)\n",
    "dev_tokens_unique = int(dev[3].nunique() - 1)"
   ]
  },
  {
   "cell_type": "code",
   "execution_count": 19,
   "id": "8d45f25b",
   "metadata": {},
   "outputs": [
    {
     "data": {
      "text/plain": [
       "train    5779\n",
       "dev      2432\n",
       "Name: # tokens, unique, dtype: object"
      ]
     },
     "execution_count": 19,
     "metadata": {},
     "output_type": "execute_result"
    }
   ],
   "source": [
    "stats.loc['# tokens, unique'] = [train_tokens_unique, dev_tokens_unique]\n",
    "stats.loc['# tokens, unique']"
   ]
  },
  {
   "cell_type": "code",
   "execution_count": 20,
   "id": "2b8512f5",
   "metadata": {},
   "outputs": [
    {
     "data": {
      "text/plain": [
       "5445"
      ]
     },
     "execution_count": 20,
     "metadata": {},
     "output_type": "execute_result"
    }
   ],
   "source": [
    "# calculate the number of unique tokens if we lowercase them all\n",
    "unique_train = set()\n",
    "for token in train[3].unique():\n",
    "    unique_train.add(token.lower())\n",
    "unique_train - {''}\n",
    "len(unique_train)"
   ]
  },
  {
   "cell_type": "code",
   "execution_count": 21,
   "id": "5db4417d",
   "metadata": {},
   "outputs": [
    {
     "data": {
      "text/plain": [
       "2296"
      ]
     },
     "execution_count": 21,
     "metadata": {},
     "output_type": "execute_result"
    }
   ],
   "source": [
    "unique_dev = set()\n",
    "for token in dev[3].unique():\n",
    "    unique_dev.add(token.lower())\n",
    "unique_dev - {''}\n",
    "len(unique_dev)"
   ]
  },
  {
   "cell_type": "code",
   "execution_count": 22,
   "id": "3c133d4c",
   "metadata": {},
   "outputs": [
    {
     "data": {
      "text/plain": [
       "train    5445\n",
       "dev      2296\n",
       "Name: # tokens lowercased, unique, dtype: object"
      ]
     },
     "execution_count": 22,
     "metadata": {},
     "output_type": "execute_result"
    }
   ],
   "source": [
    "stats.loc['# tokens lowercased, unique'] = [len(unique_train), len(unique_dev)]\n",
    "stats.loc['# tokens lowercased, unique']"
   ]
  },
  {
   "cell_type": "code",
   "execution_count": 23,
   "id": "f6d18c47",
   "metadata": {},
   "outputs": [],
   "source": [
    "# calculate the number of negation cues: elements labeled with 'B-NEG' \n",
    "\n",
    "train_ncs = int(train[train[4] == 'B-NEG'][4].value_counts())\n",
    "dev_ncs = int(dev[dev[4] == 'B-NEG'][4].value_counts())"
   ]
  },
  {
   "cell_type": "code",
   "execution_count": 24,
   "id": "43917adf",
   "metadata": {},
   "outputs": [
    {
     "data": {
      "text/plain": [
       "train    987\n",
       "dev      176\n",
       "Name: # negation cues, dtype: object"
      ]
     },
     "execution_count": 24,
     "metadata": {},
     "output_type": "execute_result"
    }
   ],
   "source": [
    "stats.loc['# negation cues'] = [train_ncs, dev_ncs]\n",
    "stats.loc['# negation cues']"
   ]
  },
  {
   "cell_type": "code",
   "execution_count": 25,
   "id": "84e55192",
   "metadata": {},
   "outputs": [
    {
     "data": {
      "text/plain": [
       "array(['save', 'not', 'infrequent', 'no', 'unfortunate', 'without',\n",
       "       'never', 'nothing', 'Not', 'No', 'by', 'unknown', 'none',\n",
       "       'unambitious', 'incredulously', \"n't\", 'unpractical',\n",
       "       'inadvertently', 'unimaginative', 'nor', 'godless', 'unable',\n",
       "       'unhappy', 'Nor', 'infinite', 'untimely', 'breathlessness',\n",
       "       'unusual', 'untenanted', 'impenetrable', 'None', 'impatient',\n",
       "       'useless', 'unsafe', 'inconceivable', 'immaterial', 'intolerable',\n",
       "       'nobody', 'On', 'incredible', 'lifeless', 'rather', 'unlikely',\n",
       "       'Nothing', 'uneducated', 'carelessness', 'careless', 'fail',\n",
       "       'indiscreet', 'powerless', 'unfortunately', 'unpleasant',\n",
       "       'unmarried', 'impossible', 'purposeless', 'inexplicable',\n",
       "       'disconnected', 'imprudent', 'Never', 'undeniable', 'By', 'Except',\n",
       "       'motionless', 'restlessly', 'unmistakable', 'uncontrollable',\n",
       "       'hopeless', 'inadequate', 'invisible', 'unjustifiable',\n",
       "       'impassable', 'indescribably', 'uncanny', 'irregular', 'unlike',\n",
       "       'uncommon', 'impatiently', 'unconcernedly', 'interminable',\n",
       "       'unbroken', 'uninteresting', 'irretrievably', 'unlimited',\n",
       "       'unfruitful', 'unwarlike', 'uneasy', 'helpless', 'unemotional',\n",
       "       'disapprobation', 'harmless', 'worthless', 'unfurnished',\n",
       "       'unoccupied', 'noiselessly', 'uneasiness', 'unfounded',\n",
       "       'unexpected', 'irresolute', 'displeasure', 'distasteful',\n",
       "       'disfavour', 'unmitigated', 'neither', 'prevent', 'neglected',\n",
       "       'unarmed', 'irrelevant', 'inscrutable', 'unfair', 'unfairly',\n",
       "       'shelterless', 'unseen', 'Nowhere', 'refused', 'inconvenient',\n",
       "       'inconclusive', 'uncomfortably', 'nowhere', 'immutable',\n",
       "       'inhospitable', 'breathless', 'unnecessary', 'colourless',\n",
       "       'undeceived', 'windless', 'irrevocable', 'unconcerned', 'absence',\n",
       "       'unsigned', 'unnatural', 'uncurtained', 'unconscious', 'uncertain',\n",
       "       'helplessly', 'insensible', 'unexplored'], dtype=object)"
      ]
     },
     "execution_count": 25,
     "metadata": {},
     "output_type": "execute_result"
    }
   ],
   "source": [
    "# also interested to know the number of unique negation cues: try looking at unique tokens \n",
    "# labeled B-NEG\n",
    "\n",
    "train[train[4] == 'B-NEG'][3].unique()"
   ]
  },
  {
   "cell_type": "code",
   "execution_count": 26,
   "id": "bed52727",
   "metadata": {},
   "outputs": [],
   "source": [
    "# we can see that those are not all unique: some are the same token in a capitalized / not\n",
    "# capitalized versions\n",
    "\n",
    "# make a set of unique negation cues\n",
    "\n",
    "train_ncs_unique = set()\n",
    "for token in train[train[4] == 'B-NEG'][3].unique():\n",
    "    train_ncs_unique.add(token.lower())\n",
    "dev_ncs_unique = set()\n",
    "for token in dev[dev[4] == 'B-NEG'][3].unique():\n",
    "    dev_ncs_unique.add(token.lower())"
   ]
  },
  {
   "cell_type": "code",
   "execution_count": 27,
   "id": "a892dec0",
   "metadata": {},
   "outputs": [
    {
     "data": {
      "text/plain": [
       "{'absence',\n",
       " 'breathless',\n",
       " 'breathlessness',\n",
       " 'by',\n",
       " 'careless',\n",
       " 'carelessness',\n",
       " 'colourless',\n",
       " 'disapprobation',\n",
       " 'disconnected',\n",
       " 'disfavour',\n",
       " 'displeasure',\n",
       " 'distasteful',\n",
       " 'except',\n",
       " 'fail',\n",
       " 'godless',\n",
       " 'harmless',\n",
       " 'helpless',\n",
       " 'helplessly',\n",
       " 'hopeless',\n",
       " 'immaterial',\n",
       " 'immutable',\n",
       " 'impassable',\n",
       " 'impatient',\n",
       " 'impatiently',\n",
       " 'impenetrable',\n",
       " 'impossible',\n",
       " 'imprudent',\n",
       " 'inadequate',\n",
       " 'inadvertently',\n",
       " 'inconceivable',\n",
       " 'inconclusive',\n",
       " 'inconvenient',\n",
       " 'incredible',\n",
       " 'incredulously',\n",
       " 'indescribably',\n",
       " 'indiscreet',\n",
       " 'inexplicable',\n",
       " 'infinite',\n",
       " 'infrequent',\n",
       " 'inhospitable',\n",
       " 'inscrutable',\n",
       " 'insensible',\n",
       " 'interminable',\n",
       " 'intolerable',\n",
       " 'invisible',\n",
       " 'irregular',\n",
       " 'irrelevant',\n",
       " 'irresolute',\n",
       " 'irretrievably',\n",
       " 'irrevocable',\n",
       " 'lifeless',\n",
       " 'motionless',\n",
       " \"n't\",\n",
       " 'neglected',\n",
       " 'neither',\n",
       " 'never',\n",
       " 'no',\n",
       " 'nobody',\n",
       " 'noiselessly',\n",
       " 'none',\n",
       " 'nor',\n",
       " 'not',\n",
       " 'nothing',\n",
       " 'nowhere',\n",
       " 'on',\n",
       " 'powerless',\n",
       " 'prevent',\n",
       " 'purposeless',\n",
       " 'rather',\n",
       " 'refused',\n",
       " 'restlessly',\n",
       " 'save',\n",
       " 'shelterless',\n",
       " 'unable',\n",
       " 'unambitious',\n",
       " 'unarmed',\n",
       " 'unbroken',\n",
       " 'uncanny',\n",
       " 'uncertain',\n",
       " 'uncomfortably',\n",
       " 'uncommon',\n",
       " 'unconcerned',\n",
       " 'unconcernedly',\n",
       " 'unconscious',\n",
       " 'uncontrollable',\n",
       " 'uncurtained',\n",
       " 'undeceived',\n",
       " 'undeniable',\n",
       " 'uneasiness',\n",
       " 'uneasy',\n",
       " 'uneducated',\n",
       " 'unemotional',\n",
       " 'unexpected',\n",
       " 'unexplored',\n",
       " 'unfair',\n",
       " 'unfairly',\n",
       " 'unfortunate',\n",
       " 'unfortunately',\n",
       " 'unfounded',\n",
       " 'unfruitful',\n",
       " 'unfurnished',\n",
       " 'unhappy',\n",
       " 'unimaginative',\n",
       " 'uninteresting',\n",
       " 'unjustifiable',\n",
       " 'unknown',\n",
       " 'unlike',\n",
       " 'unlikely',\n",
       " 'unlimited',\n",
       " 'unmarried',\n",
       " 'unmistakable',\n",
       " 'unmitigated',\n",
       " 'unnatural',\n",
       " 'unnecessary',\n",
       " 'unoccupied',\n",
       " 'unpleasant',\n",
       " 'unpractical',\n",
       " 'unsafe',\n",
       " 'unseen',\n",
       " 'unsigned',\n",
       " 'untenanted',\n",
       " 'untimely',\n",
       " 'unusual',\n",
       " 'unwarlike',\n",
       " 'useless',\n",
       " 'windless',\n",
       " 'without',\n",
       " 'worthless'}"
      ]
     },
     "execution_count": 27,
     "metadata": {},
     "output_type": "execute_result"
    }
   ],
   "source": [
    "train_ncs_unique"
   ]
  },
  {
   "cell_type": "code",
   "execution_count": 28,
   "id": "c33d8bf4",
   "metadata": {},
   "outputs": [
    {
     "data": {
      "text/html": [
       "<div>\n",
       "<style scoped>\n",
       "    .dataframe tbody tr th:only-of-type {\n",
       "        vertical-align: middle;\n",
       "    }\n",
       "\n",
       "    .dataframe tbody tr th {\n",
       "        vertical-align: top;\n",
       "    }\n",
       "\n",
       "    .dataframe thead th {\n",
       "        text-align: right;\n",
       "    }\n",
       "</style>\n",
       "<table border=\"1\" class=\"dataframe\">\n",
       "  <thead>\n",
       "    <tr style=\"text-align: right;\">\n",
       "      <th></th>\n",
       "      <th>0</th>\n",
       "      <th>1</th>\n",
       "      <th>2</th>\n",
       "      <th>3</th>\n",
       "      <th>4</th>\n",
       "    </tr>\n",
       "  </thead>\n",
       "  <tbody>\n",
       "    <tr>\n",
       "      <th>930</th>\n",
       "      <td>baskervilles01</td>\n",
       "      <td>47</td>\n",
       "      <td>13</td>\n",
       "      <td>no</td>\n",
       "      <td>I-NEG</td>\n",
       "    </tr>\n",
       "    <tr>\n",
       "      <th>931</th>\n",
       "      <td>baskervilles01</td>\n",
       "      <td>47</td>\n",
       "      <td>14</td>\n",
       "      <td>means</td>\n",
       "      <td>I-NEG</td>\n",
       "    </tr>\n",
       "    <tr>\n",
       "      <th>4608</th>\n",
       "      <td>baskervilles02</td>\n",
       "      <td>59</td>\n",
       "      <td>6</td>\n",
       "      <td>no</td>\n",
       "      <td>I-NEG</td>\n",
       "    </tr>\n",
       "    <tr>\n",
       "      <th>4609</th>\n",
       "      <td>baskervilles02</td>\n",
       "      <td>59</td>\n",
       "      <td>7</td>\n",
       "      <td>means</td>\n",
       "      <td>I-NEG</td>\n",
       "    </tr>\n",
       "    <tr>\n",
       "      <th>10254</th>\n",
       "      <td>baskervilles03</td>\n",
       "      <td>182</td>\n",
       "      <td>2</td>\n",
       "      <td>the</td>\n",
       "      <td>I-NEG</td>\n",
       "    </tr>\n",
       "    <tr>\n",
       "      <th>10255</th>\n",
       "      <td>baskervilles03</td>\n",
       "      <td>182</td>\n",
       "      <td>3</td>\n",
       "      <td>contrary</td>\n",
       "      <td>I-NEG</td>\n",
       "    </tr>\n",
       "    <tr>\n",
       "      <th>11133</th>\n",
       "      <td>baskervilles03</td>\n",
       "      <td>236</td>\n",
       "      <td>24</td>\n",
       "      <td>than</td>\n",
       "      <td>I-NEG</td>\n",
       "    </tr>\n",
       "    <tr>\n",
       "      <th>11246</th>\n",
       "      <td>baskervilles03</td>\n",
       "      <td>243</td>\n",
       "      <td>1</td>\n",
       "      <td>the</td>\n",
       "      <td>I-NEG</td>\n",
       "    </tr>\n",
       "    <tr>\n",
       "      <th>11247</th>\n",
       "      <td>baskervilles03</td>\n",
       "      <td>243</td>\n",
       "      <td>2</td>\n",
       "      <td>contrary</td>\n",
       "      <td>I-NEG</td>\n",
       "    </tr>\n",
       "    <tr>\n",
       "      <th>15055</th>\n",
       "      <td>baskervilles04</td>\n",
       "      <td>197</td>\n",
       "      <td>2</td>\n",
       "      <td>for</td>\n",
       "      <td>I-NEG</td>\n",
       "    </tr>\n",
       "    <tr>\n",
       "      <th>15056</th>\n",
       "      <td>baskervilles04</td>\n",
       "      <td>197</td>\n",
       "      <td>3</td>\n",
       "      <td>the</td>\n",
       "      <td>I-NEG</td>\n",
       "    </tr>\n",
       "    <tr>\n",
       "      <th>15057</th>\n",
       "      <td>baskervilles04</td>\n",
       "      <td>197</td>\n",
       "      <td>4</td>\n",
       "      <td>world</td>\n",
       "      <td>I-NEG</td>\n",
       "    </tr>\n",
       "    <tr>\n",
       "      <th>21428</th>\n",
       "      <td>baskervilles06</td>\n",
       "      <td>11</td>\n",
       "      <td>2</td>\n",
       "      <td>no</td>\n",
       "      <td>I-NEG</td>\n",
       "    </tr>\n",
       "    <tr>\n",
       "      <th>21429</th>\n",
       "      <td>baskervilles06</td>\n",
       "      <td>11</td>\n",
       "      <td>3</td>\n",
       "      <td>means</td>\n",
       "      <td>I-NEG</td>\n",
       "    </tr>\n",
       "    <tr>\n",
       "      <th>39479</th>\n",
       "      <td>baskervilles09</td>\n",
       "      <td>200</td>\n",
       "      <td>12</td>\n",
       "      <td>at</td>\n",
       "      <td>I-NEG</td>\n",
       "    </tr>\n",
       "    <tr>\n",
       "      <th>39480</th>\n",
       "      <td>baskervilles09</td>\n",
       "      <td>200</td>\n",
       "      <td>13</td>\n",
       "      <td>all</td>\n",
       "      <td>I-NEG</td>\n",
       "    </tr>\n",
       "  </tbody>\n",
       "</table>\n",
       "</div>"
      ],
      "text/plain": [
       "                    0    1   2         3      4\n",
       "930    baskervilles01   47  13        no  I-NEG\n",
       "931    baskervilles01   47  14     means  I-NEG\n",
       "4608   baskervilles02   59   6        no  I-NEG\n",
       "4609   baskervilles02   59   7     means  I-NEG\n",
       "10254  baskervilles03  182   2       the  I-NEG\n",
       "10255  baskervilles03  182   3  contrary  I-NEG\n",
       "11133  baskervilles03  236  24      than  I-NEG\n",
       "11246  baskervilles03  243   1       the  I-NEG\n",
       "11247  baskervilles03  243   2  contrary  I-NEG\n",
       "15055  baskervilles04  197   2       for  I-NEG\n",
       "15056  baskervilles04  197   3       the  I-NEG\n",
       "15057  baskervilles04  197   4     world  I-NEG\n",
       "21428  baskervilles06   11   2        no  I-NEG\n",
       "21429  baskervilles06   11   3     means  I-NEG\n",
       "39479  baskervilles09  200  12        at  I-NEG\n",
       "39480  baskervilles09  200  13       all  I-NEG"
      ]
     },
     "execution_count": 28,
     "metadata": {},
     "output_type": "execute_result"
    }
   ],
   "source": [
    "# we can see that both single word negation cues are included, and first tokens of multi_word\n",
    "# negation cues, for example 'by'\n",
    "# let's explore the multi-word ncs we have in our corpus: they have element I-NEG\n",
    "\n",
    "train[train[4] == 'I-NEG']"
   ]
  },
  {
   "cell_type": "code",
   "execution_count": 29,
   "id": "fa7cb963",
   "metadata": {},
   "outputs": [
    {
     "data": {
      "text/html": [
       "<div>\n",
       "<style scoped>\n",
       "    .dataframe tbody tr th:only-of-type {\n",
       "        vertical-align: middle;\n",
       "    }\n",
       "\n",
       "    .dataframe tbody tr th {\n",
       "        vertical-align: top;\n",
       "    }\n",
       "\n",
       "    .dataframe thead th {\n",
       "        text-align: right;\n",
       "    }\n",
       "</style>\n",
       "<table border=\"1\" class=\"dataframe\">\n",
       "  <thead>\n",
       "    <tr style=\"text-align: right;\">\n",
       "      <th></th>\n",
       "      <th>0</th>\n",
       "      <th>1</th>\n",
       "      <th>2</th>\n",
       "      <th>3</th>\n",
       "      <th>4</th>\n",
       "    </tr>\n",
       "  </thead>\n",
       "  <tbody>\n",
       "    <tr>\n",
       "      <th>4257</th>\n",
       "      <td>wisteria01</td>\n",
       "      <td>248</td>\n",
       "      <td>5</td>\n",
       "      <td>no</td>\n",
       "      <td>I-NEG</td>\n",
       "    </tr>\n",
       "    <tr>\n",
       "      <th>4258</th>\n",
       "      <td>wisteria01</td>\n",
       "      <td>248</td>\n",
       "      <td>6</td>\n",
       "      <td>means</td>\n",
       "      <td>I-NEG</td>\n",
       "    </tr>\n",
       "    <tr>\n",
       "      <th>13769</th>\n",
       "      <td>wisteria02</td>\n",
       "      <td>414</td>\n",
       "      <td>7</td>\n",
       "      <td>more</td>\n",
       "      <td>I-NEG</td>\n",
       "    </tr>\n",
       "  </tbody>\n",
       "</table>\n",
       "</div>"
      ],
      "text/plain": [
       "                0    1  2      3      4\n",
       "4257   wisteria01  248  5     no  I-NEG\n",
       "4258   wisteria01  248  6  means  I-NEG\n",
       "13769  wisteria02  414  7   more  I-NEG"
      ]
     },
     "execution_count": 29,
     "metadata": {},
     "output_type": "execute_result"
    }
   ],
   "source": [
    "dev[dev[4] == 'I-NEG']"
   ]
  },
  {
   "cell_type": "code",
   "execution_count": 30,
   "id": "cfa7a335",
   "metadata": {},
   "outputs": [],
   "source": [
    "# we can see there are 8 in total in training, and 2 in dev\n",
    "\n",
    "stats.loc['# multi-word negation cues'] = [8, 2]"
   ]
  },
  {
   "cell_type": "code",
   "execution_count": 31,
   "id": "56b3d943",
   "metadata": {},
   "outputs": [
    {
     "data": {
      "text/plain": [
       "train    979\n",
       "dev      174\n",
       "Name: # single word negation cues, dtype: object"
      ]
     },
     "execution_count": 31,
     "metadata": {},
     "output_type": "execute_result"
    }
   ],
   "source": [
    "# now we can also calculate the number of single word ncs\n",
    "\n",
    "stats.loc['# single word negation cues'] = [stats.loc['# negation cues']['train'] - stats.loc['# multi-word negation cues']['train'], \n",
    "                                           stats.loc['# negation cues']['dev'] - stats.loc['# multi-word negation cues']['dev']]\n",
    "stats.loc['# single word negation cues']"
   ]
  },
  {
   "cell_type": "code",
   "execution_count": 32,
   "id": "2d528639",
   "metadata": {},
   "outputs": [],
   "source": [
    "# let's also look at the number of unique multi and single word negation cues and create\n",
    "# sets containing them"
   ]
  },
  {
   "cell_type": "code",
   "execution_count": 33,
   "id": "2bc6bb94",
   "metadata": {},
   "outputs": [
    {
     "data": {
      "text/html": [
       "<div>\n",
       "<style scoped>\n",
       "    .dataframe tbody tr th:only-of-type {\n",
       "        vertical-align: middle;\n",
       "    }\n",
       "\n",
       "    .dataframe tbody tr th {\n",
       "        vertical-align: top;\n",
       "    }\n",
       "\n",
       "    .dataframe thead th {\n",
       "        text-align: right;\n",
       "    }\n",
       "</style>\n",
       "<table border=\"1\" class=\"dataframe\">\n",
       "  <thead>\n",
       "    <tr style=\"text-align: right;\">\n",
       "      <th></th>\n",
       "      <th>0</th>\n",
       "      <th>1</th>\n",
       "      <th>2</th>\n",
       "      <th>3</th>\n",
       "      <th>4</th>\n",
       "    </tr>\n",
       "  </thead>\n",
       "  <tbody>\n",
       "    <tr>\n",
       "      <th>929</th>\n",
       "      <td>baskervilles01</td>\n",
       "      <td>47</td>\n",
       "      <td>12</td>\n",
       "      <td>by</td>\n",
       "      <td>B-NEG</td>\n",
       "    </tr>\n",
       "    <tr>\n",
       "      <th>930</th>\n",
       "      <td>baskervilles01</td>\n",
       "      <td>47</td>\n",
       "      <td>13</td>\n",
       "      <td>no</td>\n",
       "      <td>I-NEG</td>\n",
       "    </tr>\n",
       "    <tr>\n",
       "      <th>931</th>\n",
       "      <td>baskervilles01</td>\n",
       "      <td>47</td>\n",
       "      <td>14</td>\n",
       "      <td>means</td>\n",
       "      <td>I-NEG</td>\n",
       "    </tr>\n",
       "  </tbody>\n",
       "</table>\n",
       "</div>"
      ],
      "text/plain": [
       "                  0   1   2      3      4\n",
       "929  baskervilles01  47  12     by  B-NEG\n",
       "930  baskervilles01  47  13     no  I-NEG\n",
       "931  baskervilles01  47  14  means  I-NEG"
      ]
     },
     "execution_count": 33,
     "metadata": {},
     "output_type": "execute_result"
    }
   ],
   "source": [
    "train.iloc[930-1:931+1]"
   ]
  },
  {
   "cell_type": "code",
   "execution_count": 34,
   "id": "af0b69a6",
   "metadata": {},
   "outputs": [],
   "source": [
    "# add 'by no means' to a list of negation cues\n",
    "train_ncs_unique_multi = set()\n",
    "train_ncs_unique_multi.add('by no means')"
   ]
  },
  {
   "cell_type": "code",
   "execution_count": 35,
   "id": "c3f1043d",
   "metadata": {},
   "outputs": [
    {
     "data": {
      "text/html": [
       "<div>\n",
       "<style scoped>\n",
       "    .dataframe tbody tr th:only-of-type {\n",
       "        vertical-align: middle;\n",
       "    }\n",
       "\n",
       "    .dataframe tbody tr th {\n",
       "        vertical-align: top;\n",
       "    }\n",
       "\n",
       "    .dataframe thead th {\n",
       "        text-align: right;\n",
       "    }\n",
       "</style>\n",
       "<table border=\"1\" class=\"dataframe\">\n",
       "  <thead>\n",
       "    <tr style=\"text-align: right;\">\n",
       "      <th></th>\n",
       "      <th>0</th>\n",
       "      <th>1</th>\n",
       "      <th>2</th>\n",
       "      <th>3</th>\n",
       "      <th>4</th>\n",
       "    </tr>\n",
       "  </thead>\n",
       "  <tbody>\n",
       "    <tr>\n",
       "      <th>929</th>\n",
       "      <td>baskervilles01</td>\n",
       "      <td>47</td>\n",
       "      <td>12</td>\n",
       "      <td>by</td>\n",
       "      <td>B-NEG</td>\n",
       "    </tr>\n",
       "    <tr>\n",
       "      <th>4607</th>\n",
       "      <td>baskervilles02</td>\n",
       "      <td>59</td>\n",
       "      <td>5</td>\n",
       "      <td>by</td>\n",
       "      <td>B-NEG</td>\n",
       "    </tr>\n",
       "    <tr>\n",
       "      <th>21427</th>\n",
       "      <td>baskervilles06</td>\n",
       "      <td>11</td>\n",
       "      <td>1</td>\n",
       "      <td>By</td>\n",
       "      <td>B-NEG</td>\n",
       "    </tr>\n",
       "  </tbody>\n",
       "</table>\n",
       "</div>"
      ],
      "text/plain": [
       "                    0   1   2   3      4\n",
       "929    baskervilles01  47  12  by  B-NEG\n",
       "4607   baskervilles02  59   5  by  B-NEG\n",
       "21427  baskervilles06  11   1  By  B-NEG"
      ]
     },
     "execution_count": 35,
     "metadata": {},
     "output_type": "execute_result"
    }
   ],
   "source": [
    "train[((train[3] == 'by') | (train[3] == 'By')) & (train[4] == 'B-NEG')]"
   ]
  },
  {
   "cell_type": "code",
   "execution_count": 36,
   "id": "71725a5f",
   "metadata": {},
   "outputs": [],
   "source": [
    "# 'by' never occurs as a single negation cue\n",
    "train_ncs_unique_single = train_ncs_unique - {'by'}"
   ]
  },
  {
   "cell_type": "code",
   "execution_count": 37,
   "id": "8525bdcf",
   "metadata": {},
   "outputs": [
    {
     "data": {
      "text/html": [
       "<div>\n",
       "<style scoped>\n",
       "    .dataframe tbody tr th:only-of-type {\n",
       "        vertical-align: middle;\n",
       "    }\n",
       "\n",
       "    .dataframe tbody tr th {\n",
       "        vertical-align: top;\n",
       "    }\n",
       "\n",
       "    .dataframe thead th {\n",
       "        text-align: right;\n",
       "    }\n",
       "</style>\n",
       "<table border=\"1\" class=\"dataframe\">\n",
       "  <thead>\n",
       "    <tr style=\"text-align: right;\">\n",
       "      <th></th>\n",
       "      <th>0</th>\n",
       "      <th>1</th>\n",
       "      <th>2</th>\n",
       "      <th>3</th>\n",
       "      <th>4</th>\n",
       "    </tr>\n",
       "  </thead>\n",
       "  <tbody>\n",
       "    <tr>\n",
       "      <th>10253</th>\n",
       "      <td>baskervilles03</td>\n",
       "      <td>182</td>\n",
       "      <td>1</td>\n",
       "      <td>On</td>\n",
       "      <td>B-NEG</td>\n",
       "    </tr>\n",
       "    <tr>\n",
       "      <th>10254</th>\n",
       "      <td>baskervilles03</td>\n",
       "      <td>182</td>\n",
       "      <td>2</td>\n",
       "      <td>the</td>\n",
       "      <td>I-NEG</td>\n",
       "    </tr>\n",
       "    <tr>\n",
       "      <th>10255</th>\n",
       "      <td>baskervilles03</td>\n",
       "      <td>182</td>\n",
       "      <td>3</td>\n",
       "      <td>contrary</td>\n",
       "      <td>I-NEG</td>\n",
       "    </tr>\n",
       "  </tbody>\n",
       "</table>\n",
       "</div>"
      ],
      "text/plain": [
       "                    0    1  2         3      4\n",
       "10253  baskervilles03  182  1        On  B-NEG\n",
       "10254  baskervilles03  182  2       the  I-NEG\n",
       "10255  baskervilles03  182  3  contrary  I-NEG"
      ]
     },
     "execution_count": 37,
     "metadata": {},
     "output_type": "execute_result"
    }
   ],
   "source": [
    "train.iloc[10254-1:10255+1]"
   ]
  },
  {
   "cell_type": "code",
   "execution_count": 38,
   "id": "38faa218",
   "metadata": {},
   "outputs": [],
   "source": [
    "train_ncs_unique_multi.add('on the contrary')"
   ]
  },
  {
   "cell_type": "code",
   "execution_count": 39,
   "id": "bdec832a",
   "metadata": {},
   "outputs": [
    {
     "data": {
      "text/html": [
       "<div>\n",
       "<style scoped>\n",
       "    .dataframe tbody tr th:only-of-type {\n",
       "        vertical-align: middle;\n",
       "    }\n",
       "\n",
       "    .dataframe tbody tr th {\n",
       "        vertical-align: top;\n",
       "    }\n",
       "\n",
       "    .dataframe thead th {\n",
       "        text-align: right;\n",
       "    }\n",
       "</style>\n",
       "<table border=\"1\" class=\"dataframe\">\n",
       "  <thead>\n",
       "    <tr style=\"text-align: right;\">\n",
       "      <th></th>\n",
       "      <th>0</th>\n",
       "      <th>1</th>\n",
       "      <th>2</th>\n",
       "      <th>3</th>\n",
       "      <th>4</th>\n",
       "    </tr>\n",
       "  </thead>\n",
       "  <tbody>\n",
       "    <tr>\n",
       "      <th>10253</th>\n",
       "      <td>baskervilles03</td>\n",
       "      <td>182</td>\n",
       "      <td>1</td>\n",
       "      <td>On</td>\n",
       "      <td>B-NEG</td>\n",
       "    </tr>\n",
       "    <tr>\n",
       "      <th>11245</th>\n",
       "      <td>baskervilles03</td>\n",
       "      <td>243</td>\n",
       "      <td>0</td>\n",
       "      <td>On</td>\n",
       "      <td>B-NEG</td>\n",
       "    </tr>\n",
       "  </tbody>\n",
       "</table>\n",
       "</div>"
      ],
      "text/plain": [
       "                    0    1  2   3      4\n",
       "10253  baskervilles03  182  1  On  B-NEG\n",
       "11245  baskervilles03  243  0  On  B-NEG"
      ]
     },
     "execution_count": 39,
     "metadata": {},
     "output_type": "execute_result"
    }
   ],
   "source": [
    "train[((train[3] == 'on') |(train[3] == 'On')) & (train[4] == 'B-NEG')]"
   ]
  },
  {
   "cell_type": "code",
   "execution_count": 40,
   "id": "51b21198",
   "metadata": {},
   "outputs": [],
   "source": [
    "# 'on' never occurs as a single negation cue\n",
    "train_ncs_unique_single = train_ncs_unique_single - {'on'}"
   ]
  },
  {
   "cell_type": "code",
   "execution_count": 41,
   "id": "fc25ab86",
   "metadata": {},
   "outputs": [
    {
     "data": {
      "text/html": [
       "<div>\n",
       "<style scoped>\n",
       "    .dataframe tbody tr th:only-of-type {\n",
       "        vertical-align: middle;\n",
       "    }\n",
       "\n",
       "    .dataframe tbody tr th {\n",
       "        vertical-align: top;\n",
       "    }\n",
       "\n",
       "    .dataframe thead th {\n",
       "        text-align: right;\n",
       "    }\n",
       "</style>\n",
       "<table border=\"1\" class=\"dataframe\">\n",
       "  <thead>\n",
       "    <tr style=\"text-align: right;\">\n",
       "      <th></th>\n",
       "      <th>0</th>\n",
       "      <th>1</th>\n",
       "      <th>2</th>\n",
       "      <th>3</th>\n",
       "      <th>4</th>\n",
       "    </tr>\n",
       "  </thead>\n",
       "  <tbody>\n",
       "    <tr>\n",
       "      <th>11132</th>\n",
       "      <td>baskervilles03</td>\n",
       "      <td>236</td>\n",
       "      <td>23</td>\n",
       "      <td>rather</td>\n",
       "      <td>B-NEG</td>\n",
       "    </tr>\n",
       "    <tr>\n",
       "      <th>11133</th>\n",
       "      <td>baskervilles03</td>\n",
       "      <td>236</td>\n",
       "      <td>24</td>\n",
       "      <td>than</td>\n",
       "      <td>I-NEG</td>\n",
       "    </tr>\n",
       "  </tbody>\n",
       "</table>\n",
       "</div>"
      ],
      "text/plain": [
       "                    0    1   2       3      4\n",
       "11132  baskervilles03  236  23  rather  B-NEG\n",
       "11133  baskervilles03  236  24    than  I-NEG"
      ]
     },
     "execution_count": 41,
     "metadata": {},
     "output_type": "execute_result"
    }
   ],
   "source": [
    "train.iloc[11133-1:11133+1]"
   ]
  },
  {
   "cell_type": "code",
   "execution_count": 42,
   "id": "6d3af01b",
   "metadata": {},
   "outputs": [],
   "source": [
    "train_ncs_unique_multi.add('rather than')"
   ]
  },
  {
   "cell_type": "code",
   "execution_count": 43,
   "id": "6c7c2df8",
   "metadata": {},
   "outputs": [
    {
     "data": {
      "text/html": [
       "<div>\n",
       "<style scoped>\n",
       "    .dataframe tbody tr th:only-of-type {\n",
       "        vertical-align: middle;\n",
       "    }\n",
       "\n",
       "    .dataframe tbody tr th {\n",
       "        vertical-align: top;\n",
       "    }\n",
       "\n",
       "    .dataframe thead th {\n",
       "        text-align: right;\n",
       "    }\n",
       "</style>\n",
       "<table border=\"1\" class=\"dataframe\">\n",
       "  <thead>\n",
       "    <tr style=\"text-align: right;\">\n",
       "      <th></th>\n",
       "      <th>0</th>\n",
       "      <th>1</th>\n",
       "      <th>2</th>\n",
       "      <th>3</th>\n",
       "      <th>4</th>\n",
       "    </tr>\n",
       "  </thead>\n",
       "  <tbody>\n",
       "    <tr>\n",
       "      <th>11132</th>\n",
       "      <td>baskervilles03</td>\n",
       "      <td>236</td>\n",
       "      <td>23</td>\n",
       "      <td>rather</td>\n",
       "      <td>B-NEG</td>\n",
       "    </tr>\n",
       "  </tbody>\n",
       "</table>\n",
       "</div>"
      ],
      "text/plain": [
       "                    0    1   2       3      4\n",
       "11132  baskervilles03  236  23  rather  B-NEG"
      ]
     },
     "execution_count": 43,
     "metadata": {},
     "output_type": "execute_result"
    }
   ],
   "source": [
    "train[((train[3] == 'rather') |(train[3] == 'Rather')) & (train[4] == 'B-NEG')]"
   ]
  },
  {
   "cell_type": "code",
   "execution_count": 44,
   "id": "f85f48e0",
   "metadata": {},
   "outputs": [],
   "source": [
    "# 'rather' never occurs as a single negation cue\n",
    "train_ncs_unique_single = train_ncs_unique_single - {'rather'}"
   ]
  },
  {
   "cell_type": "code",
   "execution_count": 45,
   "id": "c0f035b2",
   "metadata": {},
   "outputs": [
    {
     "data": {
      "text/html": [
       "<div>\n",
       "<style scoped>\n",
       "    .dataframe tbody tr th:only-of-type {\n",
       "        vertical-align: middle;\n",
       "    }\n",
       "\n",
       "    .dataframe tbody tr th {\n",
       "        vertical-align: top;\n",
       "    }\n",
       "\n",
       "    .dataframe thead th {\n",
       "        text-align: right;\n",
       "    }\n",
       "</style>\n",
       "<table border=\"1\" class=\"dataframe\">\n",
       "  <thead>\n",
       "    <tr style=\"text-align: right;\">\n",
       "      <th></th>\n",
       "      <th>0</th>\n",
       "      <th>1</th>\n",
       "      <th>2</th>\n",
       "      <th>3</th>\n",
       "      <th>4</th>\n",
       "    </tr>\n",
       "  </thead>\n",
       "  <tbody>\n",
       "    <tr>\n",
       "      <th>15054</th>\n",
       "      <td>baskervilles04</td>\n",
       "      <td>197</td>\n",
       "      <td>1</td>\n",
       "      <td>Not</td>\n",
       "      <td>B-NEG</td>\n",
       "    </tr>\n",
       "    <tr>\n",
       "      <th>15055</th>\n",
       "      <td>baskervilles04</td>\n",
       "      <td>197</td>\n",
       "      <td>2</td>\n",
       "      <td>for</td>\n",
       "      <td>I-NEG</td>\n",
       "    </tr>\n",
       "    <tr>\n",
       "      <th>15056</th>\n",
       "      <td>baskervilles04</td>\n",
       "      <td>197</td>\n",
       "      <td>3</td>\n",
       "      <td>the</td>\n",
       "      <td>I-NEG</td>\n",
       "    </tr>\n",
       "    <tr>\n",
       "      <th>15057</th>\n",
       "      <td>baskervilles04</td>\n",
       "      <td>197</td>\n",
       "      <td>4</td>\n",
       "      <td>world</td>\n",
       "      <td>I-NEG</td>\n",
       "    </tr>\n",
       "  </tbody>\n",
       "</table>\n",
       "</div>"
      ],
      "text/plain": [
       "                    0    1  2      3      4\n",
       "15054  baskervilles04  197  1    Not  B-NEG\n",
       "15055  baskervilles04  197  2    for  I-NEG\n",
       "15056  baskervilles04  197  3    the  I-NEG\n",
       "15057  baskervilles04  197  4  world  I-NEG"
      ]
     },
     "execution_count": 45,
     "metadata": {},
     "output_type": "execute_result"
    }
   ],
   "source": [
    "train.iloc[15055-1:15057+1]"
   ]
  },
  {
   "cell_type": "code",
   "execution_count": 46,
   "id": "b1781e34",
   "metadata": {},
   "outputs": [],
   "source": [
    "train_ncs_unique_multi.add('not for the world')"
   ]
  },
  {
   "cell_type": "code",
   "execution_count": 47,
   "id": "1b89ecc9",
   "metadata": {},
   "outputs": [
    {
     "data": {
      "text/html": [
       "<div>\n",
       "<style scoped>\n",
       "    .dataframe tbody tr th:only-of-type {\n",
       "        vertical-align: middle;\n",
       "    }\n",
       "\n",
       "    .dataframe tbody tr th {\n",
       "        vertical-align: top;\n",
       "    }\n",
       "\n",
       "    .dataframe thead th {\n",
       "        text-align: right;\n",
       "    }\n",
       "</style>\n",
       "<table border=\"1\" class=\"dataframe\">\n",
       "  <thead>\n",
       "    <tr style=\"text-align: right;\">\n",
       "      <th></th>\n",
       "      <th>0</th>\n",
       "      <th>1</th>\n",
       "      <th>2</th>\n",
       "      <th>3</th>\n",
       "      <th>4</th>\n",
       "    </tr>\n",
       "  </thead>\n",
       "  <tbody>\n",
       "    <tr>\n",
       "      <th>39478</th>\n",
       "      <td>baskervilles09</td>\n",
       "      <td>200</td>\n",
       "      <td>11</td>\n",
       "      <td>nothing</td>\n",
       "      <td>B-NEG</td>\n",
       "    </tr>\n",
       "    <tr>\n",
       "      <th>39479</th>\n",
       "      <td>baskervilles09</td>\n",
       "      <td>200</td>\n",
       "      <td>12</td>\n",
       "      <td>at</td>\n",
       "      <td>I-NEG</td>\n",
       "    </tr>\n",
       "    <tr>\n",
       "      <th>39480</th>\n",
       "      <td>baskervilles09</td>\n",
       "      <td>200</td>\n",
       "      <td>13</td>\n",
       "      <td>all</td>\n",
       "      <td>I-NEG</td>\n",
       "    </tr>\n",
       "  </tbody>\n",
       "</table>\n",
       "</div>"
      ],
      "text/plain": [
       "                    0    1   2        3      4\n",
       "39478  baskervilles09  200  11  nothing  B-NEG\n",
       "39479  baskervilles09  200  12       at  I-NEG\n",
       "39480  baskervilles09  200  13      all  I-NEG"
      ]
     },
     "execution_count": 47,
     "metadata": {},
     "output_type": "execute_result"
    }
   ],
   "source": [
    "train.iloc[39479-1:39480+1]"
   ]
  },
  {
   "cell_type": "code",
   "execution_count": 48,
   "id": "a9f7aa64",
   "metadata": {},
   "outputs": [],
   "source": [
    "train_ncs_unique_multi.add('nothing at all')"
   ]
  },
  {
   "cell_type": "code",
   "execution_count": 49,
   "id": "4114329c",
   "metadata": {},
   "outputs": [
    {
     "data": {
      "text/html": [
       "<div>\n",
       "<style scoped>\n",
       "    .dataframe tbody tr th:only-of-type {\n",
       "        vertical-align: middle;\n",
       "    }\n",
       "\n",
       "    .dataframe tbody tr th {\n",
       "        vertical-align: top;\n",
       "    }\n",
       "\n",
       "    .dataframe thead th {\n",
       "        text-align: right;\n",
       "    }\n",
       "</style>\n",
       "<table border=\"1\" class=\"dataframe\">\n",
       "  <thead>\n",
       "    <tr style=\"text-align: right;\">\n",
       "      <th></th>\n",
       "      <th>0</th>\n",
       "      <th>1</th>\n",
       "      <th>2</th>\n",
       "      <th>3</th>\n",
       "      <th>4</th>\n",
       "    </tr>\n",
       "  </thead>\n",
       "  <tbody>\n",
       "    <tr>\n",
       "      <th>4257</th>\n",
       "      <td>wisteria01</td>\n",
       "      <td>248</td>\n",
       "      <td>5</td>\n",
       "      <td>no</td>\n",
       "      <td>I-NEG</td>\n",
       "    </tr>\n",
       "    <tr>\n",
       "      <th>4258</th>\n",
       "      <td>wisteria01</td>\n",
       "      <td>248</td>\n",
       "      <td>6</td>\n",
       "      <td>means</td>\n",
       "      <td>I-NEG</td>\n",
       "    </tr>\n",
       "    <tr>\n",
       "      <th>13769</th>\n",
       "      <td>wisteria02</td>\n",
       "      <td>414</td>\n",
       "      <td>7</td>\n",
       "      <td>more</td>\n",
       "      <td>I-NEG</td>\n",
       "    </tr>\n",
       "  </tbody>\n",
       "</table>\n",
       "</div>"
      ],
      "text/plain": [
       "                0    1  2      3      4\n",
       "4257   wisteria01  248  5     no  I-NEG\n",
       "4258   wisteria01  248  6  means  I-NEG\n",
       "13769  wisteria02  414  7   more  I-NEG"
      ]
     },
     "execution_count": 49,
     "metadata": {},
     "output_type": "execute_result"
    }
   ],
   "source": [
    "dev[dev[4] == 'I-NEG']"
   ]
  },
  {
   "cell_type": "code",
   "execution_count": 50,
   "id": "be6f6a40",
   "metadata": {},
   "outputs": [
    {
     "data": {
      "text/html": [
       "<div>\n",
       "<style scoped>\n",
       "    .dataframe tbody tr th:only-of-type {\n",
       "        vertical-align: middle;\n",
       "    }\n",
       "\n",
       "    .dataframe tbody tr th {\n",
       "        vertical-align: top;\n",
       "    }\n",
       "\n",
       "    .dataframe thead th {\n",
       "        text-align: right;\n",
       "    }\n",
       "</style>\n",
       "<table border=\"1\" class=\"dataframe\">\n",
       "  <thead>\n",
       "    <tr style=\"text-align: right;\">\n",
       "      <th></th>\n",
       "      <th>0</th>\n",
       "      <th>1</th>\n",
       "      <th>2</th>\n",
       "      <th>3</th>\n",
       "      <th>4</th>\n",
       "    </tr>\n",
       "  </thead>\n",
       "  <tbody>\n",
       "    <tr>\n",
       "      <th>4256</th>\n",
       "      <td>wisteria01</td>\n",
       "      <td>248</td>\n",
       "      <td>4</td>\n",
       "      <td>by</td>\n",
       "      <td>B-NEG</td>\n",
       "    </tr>\n",
       "    <tr>\n",
       "      <th>4257</th>\n",
       "      <td>wisteria01</td>\n",
       "      <td>248</td>\n",
       "      <td>5</td>\n",
       "      <td>no</td>\n",
       "      <td>I-NEG</td>\n",
       "    </tr>\n",
       "    <tr>\n",
       "      <th>4258</th>\n",
       "      <td>wisteria01</td>\n",
       "      <td>248</td>\n",
       "      <td>6</td>\n",
       "      <td>means</td>\n",
       "      <td>I-NEG</td>\n",
       "    </tr>\n",
       "  </tbody>\n",
       "</table>\n",
       "</div>"
      ],
      "text/plain": [
       "               0    1  2      3      4\n",
       "4256  wisteria01  248  4     by  B-NEG\n",
       "4257  wisteria01  248  5     no  I-NEG\n",
       "4258  wisteria01  248  6  means  I-NEG"
      ]
     },
     "execution_count": 50,
     "metadata": {},
     "output_type": "execute_result"
    }
   ],
   "source": [
    "dev.iloc[4257-1:4258+1]"
   ]
  },
  {
   "cell_type": "code",
   "execution_count": 51,
   "id": "575ccdfd",
   "metadata": {},
   "outputs": [],
   "source": [
    "dev_ncs_unique_multi = set()\n",
    "dev_ncs_unique_multi.add('by no means')"
   ]
  },
  {
   "cell_type": "code",
   "execution_count": 52,
   "id": "1634c7af",
   "metadata": {},
   "outputs": [
    {
     "data": {
      "text/html": [
       "<div>\n",
       "<style scoped>\n",
       "    .dataframe tbody tr th:only-of-type {\n",
       "        vertical-align: middle;\n",
       "    }\n",
       "\n",
       "    .dataframe tbody tr th {\n",
       "        vertical-align: top;\n",
       "    }\n",
       "\n",
       "    .dataframe thead th {\n",
       "        text-align: right;\n",
       "    }\n",
       "</style>\n",
       "<table border=\"1\" class=\"dataframe\">\n",
       "  <thead>\n",
       "    <tr style=\"text-align: right;\">\n",
       "      <th></th>\n",
       "      <th>0</th>\n",
       "      <th>1</th>\n",
       "      <th>2</th>\n",
       "      <th>3</th>\n",
       "      <th>4</th>\n",
       "    </tr>\n",
       "  </thead>\n",
       "  <tbody>\n",
       "    <tr>\n",
       "      <th>4256</th>\n",
       "      <td>wisteria01</td>\n",
       "      <td>248</td>\n",
       "      <td>4</td>\n",
       "      <td>by</td>\n",
       "      <td>B-NEG</td>\n",
       "    </tr>\n",
       "  </tbody>\n",
       "</table>\n",
       "</div>"
      ],
      "text/plain": [
       "               0    1  2   3      4\n",
       "4256  wisteria01  248  4  by  B-NEG"
      ]
     },
     "execution_count": 52,
     "metadata": {},
     "output_type": "execute_result"
    }
   ],
   "source": [
    "dev[((dev[3] == 'by') | (dev[3] == 'By')) & (dev[4] == 'B-NEG')]"
   ]
  },
  {
   "cell_type": "code",
   "execution_count": 53,
   "id": "3c82b491",
   "metadata": {},
   "outputs": [],
   "source": [
    "# 'by' never occurs as a single negation cue\n",
    "dev_ncs_unique_single = dev_ncs_unique - {'by'}"
   ]
  },
  {
   "cell_type": "code",
   "execution_count": 54,
   "id": "ed49105c",
   "metadata": {},
   "outputs": [
    {
     "data": {
      "text/html": [
       "<div>\n",
       "<style scoped>\n",
       "    .dataframe tbody tr th:only-of-type {\n",
       "        vertical-align: middle;\n",
       "    }\n",
       "\n",
       "    .dataframe tbody tr th {\n",
       "        vertical-align: top;\n",
       "    }\n",
       "\n",
       "    .dataframe thead th {\n",
       "        text-align: right;\n",
       "    }\n",
       "</style>\n",
       "<table border=\"1\" class=\"dataframe\">\n",
       "  <thead>\n",
       "    <tr style=\"text-align: right;\">\n",
       "      <th></th>\n",
       "      <th>0</th>\n",
       "      <th>1</th>\n",
       "      <th>2</th>\n",
       "      <th>3</th>\n",
       "      <th>4</th>\n",
       "    </tr>\n",
       "  </thead>\n",
       "  <tbody>\n",
       "    <tr>\n",
       "      <th>13768</th>\n",
       "      <td>wisteria02</td>\n",
       "      <td>414</td>\n",
       "      <td>6</td>\n",
       "      <td>no</td>\n",
       "      <td>B-NEG</td>\n",
       "    </tr>\n",
       "    <tr>\n",
       "      <th>13769</th>\n",
       "      <td>wisteria02</td>\n",
       "      <td>414</td>\n",
       "      <td>7</td>\n",
       "      <td>more</td>\n",
       "      <td>I-NEG</td>\n",
       "    </tr>\n",
       "  </tbody>\n",
       "</table>\n",
       "</div>"
      ],
      "text/plain": [
       "                0    1  2     3      4\n",
       "13768  wisteria02  414  6    no  B-NEG\n",
       "13769  wisteria02  414  7  more  I-NEG"
      ]
     },
     "execution_count": 54,
     "metadata": {},
     "output_type": "execute_result"
    }
   ],
   "source": [
    "dev.iloc[13769-1:13769+1]"
   ]
  },
  {
   "cell_type": "code",
   "execution_count": 55,
   "id": "637032d2",
   "metadata": {},
   "outputs": [],
   "source": [
    "dev_ncs_unique_multi.add('no more')"
   ]
  },
  {
   "cell_type": "code",
   "execution_count": 56,
   "id": "09f230bc",
   "metadata": {},
   "outputs": [],
   "source": [
    "stats.loc['# multi-word negation cues, unique'] = [len(train_ncs_unique_multi), \n",
    "                                                   len(dev_ncs_unique_multi)]\n",
    "stats.loc['# single word negation cues, unique'] = [len(train_ncs_unique_single), \n",
    "                                                    len(dev_ncs_unique_single)]"
   ]
  },
  {
   "cell_type": "code",
   "execution_count": 57,
   "id": "1bbabe66",
   "metadata": {},
   "outputs": [],
   "source": [
    "# I also want to know how many sentences have negation cues in the first place, and how many\n",
    "# negation cues per sentence there are\n",
    "\n",
    "def count_sentences_with_negation_cues(file_path):\n",
    "    sents_with_one_nc, sents_with_multi_ncs = 0, 0\n",
    "    counter = 0\n",
    "    \n",
    "    with open(file_path, 'r', encoding='utf8') as infile:\n",
    "        filereader = csv.reader(infile, delimiter='\\t', quotechar='\\\\')\n",
    "        for row in filereader:\n",
    "            if row:\n",
    "                label = row[-1]\n",
    "                if label == 'B-NEG':\n",
    "                    counter += 1\n",
    "            else:   # empty line           \n",
    "                if counter == 1:\n",
    "                    sents_with_one_nc += 1\n",
    "                if counter > 1:\n",
    "                    sents_with_multi_ncs += 1\n",
    "                counter = 0\n",
    "    \n",
    "    if counter == 1:  # account for the last sentence\n",
    "        sents_with_one_nc += 1\n",
    "    if counter > 1:\n",
    "        sents_with_multi_ncs += 1\n",
    "    \n",
    "    return sents_with_one_nc, sents_with_multi_ncs"
   ]
  },
  {
   "cell_type": "code",
   "execution_count": 58,
   "id": "06507ac6",
   "metadata": {},
   "outputs": [],
   "source": [
    "train_sents_with_one_nc, train_sents_with_multi_ncs = count_sentences_with_negation_cues(path_train)"
   ]
  },
  {
   "cell_type": "code",
   "execution_count": 59,
   "id": "f3d8b242",
   "metadata": {},
   "outputs": [],
   "source": [
    "dev_sents_with_one_nc, dev_sents_with_multi_ncs = count_sentences_with_negation_cues(path_dev)"
   ]
  },
  {
   "cell_type": "code",
   "execution_count": 60,
   "id": "5351a3f5",
   "metadata": {},
   "outputs": [],
   "source": [
    "stats.loc['# sentences with one negation cue'] = [train_sents_with_one_nc, dev_sents_with_one_nc]\n",
    "stats.loc['# sentences with more than one negation cue'] = [train_sents_with_multi_ncs, dev_sents_with_multi_ncs]"
   ]
  },
  {
   "cell_type": "code",
   "execution_count": 61,
   "id": "44a08fcd",
   "metadata": {
    "scrolled": true
   },
   "outputs": [
    {
     "data": {
      "text/html": [
       "<div>\n",
       "<style scoped>\n",
       "    .dataframe tbody tr th:only-of-type {\n",
       "        vertical-align: middle;\n",
       "    }\n",
       "\n",
       "    .dataframe tbody tr th {\n",
       "        vertical-align: top;\n",
       "    }\n",
       "\n",
       "    .dataframe thead th {\n",
       "        text-align: right;\n",
       "    }\n",
       "</style>\n",
       "<table border=\"1\" class=\"dataframe\">\n",
       "  <thead>\n",
       "    <tr style=\"text-align: right;\">\n",
       "      <th></th>\n",
       "      <th>train</th>\n",
       "      <th>dev</th>\n",
       "    </tr>\n",
       "  </thead>\n",
       "  <tbody>\n",
       "    <tr>\n",
       "      <th># sentences</th>\n",
       "      <td>3644</td>\n",
       "      <td>787</td>\n",
       "    </tr>\n",
       "    <tr>\n",
       "      <th># tokens</th>\n",
       "      <td>65451</td>\n",
       "      <td>13567</td>\n",
       "    </tr>\n",
       "    <tr>\n",
       "      <th># tokens, unique</th>\n",
       "      <td>5779</td>\n",
       "      <td>2432</td>\n",
       "    </tr>\n",
       "    <tr>\n",
       "      <th># tokens lowercased, unique</th>\n",
       "      <td>5445</td>\n",
       "      <td>2296</td>\n",
       "    </tr>\n",
       "    <tr>\n",
       "      <th># negation cues</th>\n",
       "      <td>987</td>\n",
       "      <td>176</td>\n",
       "    </tr>\n",
       "    <tr>\n",
       "      <th># multi-word negation cues</th>\n",
       "      <td>8</td>\n",
       "      <td>2</td>\n",
       "    </tr>\n",
       "    <tr>\n",
       "      <th># single word negation cues</th>\n",
       "      <td>979</td>\n",
       "      <td>174</td>\n",
       "    </tr>\n",
       "    <tr>\n",
       "      <th># multi-word negation cues, unique</th>\n",
       "      <td>5</td>\n",
       "      <td>2</td>\n",
       "    </tr>\n",
       "    <tr>\n",
       "      <th># single word negation cues, unique</th>\n",
       "      <td>125</td>\n",
       "      <td>36</td>\n",
       "    </tr>\n",
       "    <tr>\n",
       "      <th># sentences with one negation cue</th>\n",
       "      <td>732</td>\n",
       "      <td>115</td>\n",
       "    </tr>\n",
       "    <tr>\n",
       "      <th># sentences with more than one negation cue</th>\n",
       "      <td>116</td>\n",
       "      <td>29</td>\n",
       "    </tr>\n",
       "  </tbody>\n",
       "</table>\n",
       "</div>"
      ],
      "text/plain": [
       "                                             train    dev\n",
       "# sentences                                   3644    787\n",
       "# tokens                                     65451  13567\n",
       "# tokens, unique                              5779   2432\n",
       "# tokens lowercased, unique                   5445   2296\n",
       "# negation cues                                987    176\n",
       "# multi-word negation cues                       8      2\n",
       "# single word negation cues                    979    174\n",
       "# multi-word negation cues, unique               5      2\n",
       "# single word negation cues, unique            125     36\n",
       "# sentences with one negation cue              732    115\n",
       "# sentences with more than one negation cue    116     29"
      ]
     },
     "execution_count": 61,
     "metadata": {},
     "output_type": "execute_result"
    }
   ],
   "source": [
    "stats"
   ]
  },
  {
   "cell_type": "code",
   "execution_count": 62,
   "id": "bd8f1da3",
   "metadata": {},
   "outputs": [],
   "source": [
    "# finally, let's see how frequent different single word negation cues are\n",
    "\n",
    "train_freqs = Counter()\n",
    "tokens = []\n",
    "for token in train[train[4] == 'B-NEG'][3]:\n",
    "    tokens.append(token.lower())"
   ]
  },
  {
   "cell_type": "code",
   "execution_count": 63,
   "id": "dee5a2af",
   "metadata": {},
   "outputs": [],
   "source": [
    "# build a list of multi-word negation cues so we can remove the first word from the single \n",
    "# negation cues list\n",
    "\n",
    "train_ncs_multi = list(train_ncs_unique_multi)\n",
    "train_ncs_multi.append('by no means')\n",
    "train_ncs_multi.append('by no means')\n",
    "train_ncs_multi.append('on the contrary')\n",
    "\n",
    "for e in train_ncs_multi:\n",
    "    tokens.remove(e.split(' ')[0])"
   ]
  },
  {
   "cell_type": "code",
   "execution_count": 64,
   "id": "a3eb7406",
   "metadata": {},
   "outputs": [],
   "source": [
    "train_freqs.update(tokens)"
   ]
  },
  {
   "cell_type": "code",
   "execution_count": 65,
   "id": "0614569d",
   "metadata": {},
   "outputs": [
    {
     "data": {
      "text/plain": [
       "[('not', 358), ('no', 226), (\"n't\", 65), ('never', 59), ('nothing', 55)]"
      ]
     },
     "execution_count": 65,
     "metadata": {},
     "output_type": "execute_result"
    }
   ],
   "source": [
    "train_freqs.most_common(5)"
   ]
  },
  {
   "cell_type": "code",
   "execution_count": 66,
   "id": "b4dc742e",
   "metadata": {},
   "outputs": [
    {
     "data": {
      "text/plain": [
       "[('not', 42), ('no', 33), (\"n't\", 20), ('nothing', 16), ('never', 11)]"
      ]
     },
     "execution_count": 66,
     "metadata": {},
     "output_type": "execute_result"
    }
   ],
   "source": [
    "# do the same for the development dataset\n",
    "\n",
    "dev_freqs = Counter()\n",
    "tokens = []\n",
    "for token in dev[dev[4] == 'B-NEG'][3]:\n",
    "    tokens.append(token.lower())\n",
    "\n",
    "# no multi-word nc appears more than one, so we can directly use the set we constructed previously\n",
    "\n",
    "for e in dev_ncs_unique_multi:\n",
    "    tokens.remove(e.split(' ')[0])\n",
    "\n",
    "dev_freqs.update(tokens)\n",
    "dev_freqs.most_common(5)"
   ]
  },
  {
   "cell_type": "code",
   "execution_count": 67,
   "id": "11a2f6a0",
   "metadata": {},
   "outputs": [
    {
     "data": {
      "text/plain": [
       "{'by no means',\n",
       " 'not for the world',\n",
       " 'nothing at all',\n",
       " 'on the contrary',\n",
       " 'rather than'}"
      ]
     },
     "execution_count": 67,
     "metadata": {},
     "output_type": "execute_result"
    }
   ],
   "source": [
    "# check out the lists of unique negation cues we have in our datasets\n",
    "# from here, they can easily be saved to file if we want to use them in the process of \n",
    "# feature extraction\n",
    "train_ncs_unique_multi"
   ]
  },
  {
   "cell_type": "code",
   "execution_count": 68,
   "id": "e1a7e1ef",
   "metadata": {},
   "outputs": [
    {
     "data": {
      "text/plain": [
       "{'by no means', 'no more'}"
      ]
     },
     "execution_count": 68,
     "metadata": {},
     "output_type": "execute_result"
    }
   ],
   "source": [
    "dev_ncs_unique_multi"
   ]
  },
  {
   "cell_type": "code",
   "execution_count": 69,
   "id": "5fe80741",
   "metadata": {},
   "outputs": [
    {
     "data": {
      "text/plain": [
       "{'absence',\n",
       " 'breathless',\n",
       " 'breathlessness',\n",
       " 'careless',\n",
       " 'carelessness',\n",
       " 'colourless',\n",
       " 'disapprobation',\n",
       " 'disconnected',\n",
       " 'disfavour',\n",
       " 'displeasure',\n",
       " 'distasteful',\n",
       " 'except',\n",
       " 'fail',\n",
       " 'godless',\n",
       " 'harmless',\n",
       " 'helpless',\n",
       " 'helplessly',\n",
       " 'hopeless',\n",
       " 'immaterial',\n",
       " 'immutable',\n",
       " 'impassable',\n",
       " 'impatient',\n",
       " 'impatiently',\n",
       " 'impenetrable',\n",
       " 'impossible',\n",
       " 'imprudent',\n",
       " 'inadequate',\n",
       " 'inadvertently',\n",
       " 'inconceivable',\n",
       " 'inconclusive',\n",
       " 'inconvenient',\n",
       " 'incredible',\n",
       " 'incredulously',\n",
       " 'indescribably',\n",
       " 'indiscreet',\n",
       " 'inexplicable',\n",
       " 'infinite',\n",
       " 'infrequent',\n",
       " 'inhospitable',\n",
       " 'inscrutable',\n",
       " 'insensible',\n",
       " 'interminable',\n",
       " 'intolerable',\n",
       " 'invisible',\n",
       " 'irregular',\n",
       " 'irrelevant',\n",
       " 'irresolute',\n",
       " 'irretrievably',\n",
       " 'irrevocable',\n",
       " 'lifeless',\n",
       " 'motionless',\n",
       " \"n't\",\n",
       " 'neglected',\n",
       " 'neither',\n",
       " 'never',\n",
       " 'no',\n",
       " 'nobody',\n",
       " 'noiselessly',\n",
       " 'none',\n",
       " 'nor',\n",
       " 'not',\n",
       " 'nothing',\n",
       " 'nowhere',\n",
       " 'powerless',\n",
       " 'prevent',\n",
       " 'purposeless',\n",
       " 'refused',\n",
       " 'restlessly',\n",
       " 'save',\n",
       " 'shelterless',\n",
       " 'unable',\n",
       " 'unambitious',\n",
       " 'unarmed',\n",
       " 'unbroken',\n",
       " 'uncanny',\n",
       " 'uncertain',\n",
       " 'uncomfortably',\n",
       " 'uncommon',\n",
       " 'unconcerned',\n",
       " 'unconcernedly',\n",
       " 'unconscious',\n",
       " 'uncontrollable',\n",
       " 'uncurtained',\n",
       " 'undeceived',\n",
       " 'undeniable',\n",
       " 'uneasiness',\n",
       " 'uneasy',\n",
       " 'uneducated',\n",
       " 'unemotional',\n",
       " 'unexpected',\n",
       " 'unexplored',\n",
       " 'unfair',\n",
       " 'unfairly',\n",
       " 'unfortunate',\n",
       " 'unfortunately',\n",
       " 'unfounded',\n",
       " 'unfruitful',\n",
       " 'unfurnished',\n",
       " 'unhappy',\n",
       " 'unimaginative',\n",
       " 'uninteresting',\n",
       " 'unjustifiable',\n",
       " 'unknown',\n",
       " 'unlike',\n",
       " 'unlikely',\n",
       " 'unlimited',\n",
       " 'unmarried',\n",
       " 'unmistakable',\n",
       " 'unmitigated',\n",
       " 'unnatural',\n",
       " 'unnecessary',\n",
       " 'unoccupied',\n",
       " 'unpleasant',\n",
       " 'unpractical',\n",
       " 'unsafe',\n",
       " 'unseen',\n",
       " 'unsigned',\n",
       " 'untenanted',\n",
       " 'untimely',\n",
       " 'unusual',\n",
       " 'unwarlike',\n",
       " 'useless',\n",
       " 'windless',\n",
       " 'without',\n",
       " 'worthless'}"
      ]
     },
     "execution_count": 69,
     "metadata": {},
     "output_type": "execute_result"
    }
   ],
   "source": [
    "train_ncs_unique_single"
   ]
  },
  {
   "cell_type": "code",
   "execution_count": 70,
   "id": "b073a533",
   "metadata": {},
   "outputs": [
    {
     "data": {
      "text/plain": [
       "{'dislike',\n",
       " 'dissatisfied',\n",
       " 'fearless',\n",
       " 'impatience',\n",
       " 'impossible',\n",
       " 'improper',\n",
       " 'inadmissable',\n",
       " 'inexplicable',\n",
       " 'insensibly',\n",
       " 'insufferable',\n",
       " 'invisible',\n",
       " 'irreproachable',\n",
       " \"n't\",\n",
       " 'needless',\n",
       " 'neither',\n",
       " 'never',\n",
       " 'no',\n",
       " 'nobody',\n",
       " 'nor',\n",
       " 'not',\n",
       " 'nothing',\n",
       " 'sapless',\n",
       " 'save',\n",
       " 'unbrushed',\n",
       " 'unburned',\n",
       " 'unclean',\n",
       " 'uncommonly',\n",
       " 'unconventional',\n",
       " 'undoubtedly',\n",
       " 'unkempt',\n",
       " 'unknown',\n",
       " 'unmistakable',\n",
       " 'unnatural',\n",
       " 'unpleasant',\n",
       " 'unshaven',\n",
       " 'without'}"
      ]
     },
     "execution_count": 70,
     "metadata": {},
     "output_type": "execute_result"
    }
   ],
   "source": [
    "dev_ncs_unique_single"
   ]
  },
  {
   "cell_type": "code",
   "execution_count": 72,
   "id": "d983d03d-fe3e-4408-ab13-5d956cdde0b7",
   "metadata": {},
   "outputs": [
    {
     "name": "stdout",
     "output_type": "stream",
     "text": [
      "['absence', 'except', 'fail', \"n't\", 'neglected', 'neither', 'never', 'no', 'nobody', 'none', 'nor', 'not', 'nothing', 'nowhere', 'prevent', 'refused', 'save', 'without']\n"
     ]
    }
   ],
   "source": [
    "outputfile = '../code/single_neg_cues_train.txt'\n",
    "\n",
    "neg_prefix = {\"dis\", \"im\", \"in\", \"ir\", \"un\"}\n",
    "neg_suffix = {\"less\", \"lessness\", \"lessly\"}\n",
    "\n",
    "final_ncs = set()\n",
    "\n",
    "for token in train_ncs_unique_single:\n",
    "    affixal_negation = False  # a flag to check if the token has negation affix/suffix\n",
    "    \n",
    "    for prefix in neg_prefix:\n",
    "        if token.startswith(prefix):\n",
    "            affixal_negation = True\n",
    "            \n",
    "    if not affixal_negation:  # if it doesn't have the prefix, check also for suffix\n",
    "        for suffix in neg_suffix:\n",
    "            if token.endswith(suffix):\n",
    "                affixal_negation = True\n",
    "                \n",
    "    if not affixal_negation:  # if it doesn't have any, add it to the list\n",
    "        final_ncs.add(token) \n",
    "\n",
    "print(sorted(final_ncs))\n",
    "      \n",
    "with open(outputfile, 'w', encoding='utf8') as outfile:\n",
    "    for token in sorted(final_ncs):\n",
    "        outfile.write(token + '\\n')"
   ]
  }
 ],
 "metadata": {
  "kernelspec": {
   "display_name": "Python 3",
   "language": "python",
   "name": "python3"
  },
  "language_info": {
   "codemirror_mode": {
    "name": "ipython",
    "version": 3
   },
   "file_extension": ".py",
   "mimetype": "text/x-python",
   "name": "python",
   "nbconvert_exporter": "python",
   "pygments_lexer": "ipython3",
   "version": "3.8.8"
  }
 },
 "nbformat": 4,
 "nbformat_minor": 5
}
